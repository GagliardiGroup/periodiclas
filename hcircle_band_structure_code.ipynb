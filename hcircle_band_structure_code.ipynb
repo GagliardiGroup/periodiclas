{
 "cells": [
  {
   "cell_type": "markdown",
   "id": "f5340ec9-9ebc-4fcf-b114-f05b5cd37426",
   "metadata": {},
   "source": [
    "## Running LAS"
   ]
  },
  {
   "cell_type": "code",
   "execution_count": 2,
   "id": "49d1e6ee-0623-40ce-a595-b6eeb734f0e9",
   "metadata": {
    "execution": {
     "iopub.execute_input": "2024-08-28T19:18:15.306035Z",
     "iopub.status.busy": "2024-08-28T19:18:15.305720Z",
     "iopub.status.idle": "2024-08-28T19:21:08.348470Z",
     "shell.execute_reply": "2024-08-28T19:21:08.347830Z",
     "shell.execute_reply.started": "2024-08-28T19:18:15.306011Z"
    }
   },
   "outputs": [
    {
     "name": "stdout",
     "output_type": "stream",
     "text": [
      "overwrite output file: logs/hcircle.log\n"
     ]
    },
    {
     "name": "stderr",
     "output_type": "stream",
     "text": [
      "WARN: HOMO -0.0983244949178824 >= LUMO -0.0983244949178823\n"
     ]
    },
    {
     "name": "stdout",
     "output_type": "stream",
     "text": [
      "Initiating LAS Model Space...\n",
      "Done. Time elapsed: 61.789284565951675 seconds\n",
      "Running LASSI...\n",
      "Done. Time elapsed: 110.88929386390373 seconds\n"
     ]
    }
   ],
   "source": [
    "import numpy as np\n",
    "from pyscf import gto, scf, lib, mcscf\n",
    "import math\n",
    "import time\n",
    "import os\n",
    "from tools import sign_control, util\n",
    "from tools.util import load_pkl, dump_pkl\n",
    "from systems.hcircle import HCircle\n",
    "\n",
    "#Should be able to run on a desktop in ~2-3 min:\n",
    "NUM_H = 32 #total number of hydrogens\n",
    "NUM_H_PER_FRAG = 2 #number of hydrogens/fragment\n",
    "DIST = 1.4 #bond distance\n",
    "\n",
    "geom = HCircle(DIST,NUM_H,NUM_H_PER_FRAG,fn=\"logs/hcircle.log\")\n",
    "las = geom.make_las_state_average()\n",
    "\n",
    "#Build LAS states\n",
    "print(\"Initiating LAS Model Space...\")\n",
    "start = time.perf_counter()\n",
    "las.lasci_()\n",
    "las.ci = sign_control.fix_sign(las) #sign fixing\n",
    "stop = time.perf_counter()\n",
    "print(\"Done. Time elapsed:\",stop-start,\"seconds\")\n",
    "las.dump_spaces()\n",
    "\n",
    "#Run LASSI\n",
    "print(\"Running LASSI...\")\n",
    "start = time.perf_counter()\n",
    "from mrh.my_pyscf import lassi\n",
    "lsi = lassi.LASSI(las)\n",
    "energies_lassi, civecs_lassi = lsi.kernel()\n",
    "civecs_lassi = lsi.get_sivec_vacuum_shuffle(state=0) #sign fixing\n",
    "stop = time.perf_counter()\n",
    "print(\"Done. Time elapsed:\",stop-start,\"seconds\") #Logged to hcircle.log\n",
    "\n",
    "las_charges = util.las_charges(las)\n",
    "data = {\"energies_lassi\":energies_lassi,\n",
    "        \"civecs\":civecs_lassi,\n",
    "        \"charges\":las_charges,\n",
    "        \"nfrags\":geom.nfrags,\n",
    "        \"dist\":geom.dist,\n",
    "        \"mf_coeff\":geom.mf_coeff,\n",
    "        \"mf_occ\":geom.mf_occ,\n",
    "        \"mf_ene\":geom.mf_ene,\n",
    "       }\n",
    "d = int(DIST*10)\n",
    "# data_name = f\"logs/h{NUM_H}_frag{NUM_H_PER_FRAG}H_dist{d}_lsi\"\n",
    "# dump_pkl(data,f\"{data_name}.pkl\")"
   ]
  },
  {
   "cell_type": "code",
   "execution_count": 3,
   "id": "8805c3c2-5de1-4619-958b-b98f8670c7c4",
   "metadata": {
    "execution": {
     "iopub.execute_input": "2024-08-28T19:21:08.350293Z",
     "iopub.status.busy": "2024-08-28T19:21:08.349815Z",
     "iopub.status.idle": "2024-08-28T19:21:08.690221Z",
     "shell.execute_reply": "2024-08-28T19:21:08.689632Z",
     "shell.execute_reply.started": "2024-08-28T19:21:08.350265Z"
    }
   },
   "outputs": [
    {
     "data": {
      "text/html": [
       "<div>\n",
       "<style scoped>\n",
       "    .dataframe tbody tr th:only-of-type {\n",
       "        vertical-align: middle;\n",
       "    }\n",
       "\n",
       "    .dataframe tbody tr th {\n",
       "        vertical-align: top;\n",
       "    }\n",
       "\n",
       "    .dataframe thead th {\n",
       "        text-align: right;\n",
       "    }\n",
       "</style>\n",
       "<table border=\"1\" class=\"dataframe\">\n",
       "  <thead>\n",
       "    <tr style=\"text-align: right;\">\n",
       "      <th></th>\n",
       "      <th>LASSI</th>\n",
       "    </tr>\n",
       "  </thead>\n",
       "  <tbody>\n",
       "    <tr>\n",
       "      <th>IP</th>\n",
       "      <td>8.52</td>\n",
       "    </tr>\n",
       "    <tr>\n",
       "      <th>EA</th>\n",
       "      <td>-4.00</td>\n",
       "    </tr>\n",
       "    <tr>\n",
       "      <th>GAP</th>\n",
       "      <td>12.52</td>\n",
       "    </tr>\n",
       "  </tbody>\n",
       "</table>\n",
       "</div>"
      ],
      "text/plain": [
       "     LASSI\n",
       "IP    8.52\n",
       "EA   -4.00\n",
       "GAP  12.52"
      ]
     },
     "execution_count": 3,
     "metadata": {},
     "output_type": "execute_result"
    },
    {
     "data": {
      "image/png": "[encoded data removed]",
      "text/plain": [
       "<Figure size 640x480 with 1 Axes>"
      ]
     },
     "metadata": {},
     "output_type": "display_data"
    }
   ],
   "source": [
    "%load_ext autoreload\n",
    "%autoreload 2\n",
    "\n",
    "from tools import bandh\n",
    "import numpy as np\n",
    "import pandas as pd\n",
    "import seaborn as sns\n",
    "import matplotlib.pyplot as plt\n",
    "from tools.util import load_pkl, LASdata\n",
    "sns.set()\n",
    "\n",
    "las = LASdata(pkl_fn=\"logs/h32_frag2H_dist14_lsi.pkl\",pct_pdft=0)\n",
    "df = las.make_bands()\n",
    "np.round(df,2)"
   ]
  },
  {
   "cell_type": "code",
   "execution_count": null,
   "id": "60f62dec-db95-4e07-888c-0b5b0754116a",
   "metadata": {},
   "outputs": [],
   "source": []
  }
 ],
 "metadata": {
  "kernelspec": {
   "display_name": "Python 3 (ipykernel)",
   "language": "python",
   "name": "python3"
  },
  "language_info": {
   "codemirror_mode": {
    "name": "ipython",
    "version": 3
   },
   "file_extension": ".py",
   "mimetype": "text/x-python",
   "name": "python",
   "nbconvert_exporter": "python",
   "pygments_lexer": "ipython3",
   "version": "3.10.12"
  }
 },
 "nbformat": 4,
 "nbformat_minor": 5
}
