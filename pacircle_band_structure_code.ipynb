{
 "cells": [
  {
   "cell_type": "code",
   "execution_count": 1,
   "id": "5b2e094e-9e0f-4395-9b50-80b8ff3f0f86",
   "metadata": {
    "execution": {
     "iopub.execute_input": "2024-08-19T20:10:16.327645Z",
     "iopub.status.busy": "2024-08-19T20:10:16.327295Z",
     "iopub.status.idle": "2024-08-19T20:10:19.954254Z",
     "shell.execute_reply": "2024-08-19T20:10:19.953466Z",
     "shell.execute_reply.started": "2024-08-19T20:10:16.327613Z"
    }
   },
   "outputs": [
    {
     "name": "stderr",
     "output_type": "stream",
     "text": [
      "/home/king1305/Apps/pyscf/pyscf/dft/libxc.py:772: UserWarning: Since PySCF-2.3, B3LYP (and B3P86) are changed to the VWN-RPA variant, corresponding to the original definition by Stephens et al. (issue 1480) and the same as the B3LYP functional in Gaussian. To restore the VWN5 definition, you can put the setting \"B3LYP_WITH_VWN5 = True\" in pyscf_conf.py\n",
      "  warnings.warn('Since PySCF-2.3, B3LYP (and B3P86) are changed to the VWN-RPA variant, '\n"
     ]
    },
    {
     "name": "stdout",
     "output_type": "stream",
     "text": [
      "overwrite output file: logs/pacircle.log\n",
      "Initiating LAS Model Space...\n",
      "Done. Time elapsed: 0.3953299201093614 seconds\n",
      "Running LASSI...\n",
      "Done. Time elapsed: 0.046324362978339195 seconds\n",
      "Computing MC-PDFT Energies...\n"
     ]
    },
    {
     "name": "stderr",
     "output_type": "stream",
     "text": [
      "/tmp/ipykernel_2148562/1446914933.py:40: FutureWarning: Most MC-PDFT and MC-DCFT modules have been moved to pyscf-forge (github.com/pyscf/pyscf-forge) and will be removed from mrh soon.\n",
      "  from mrh.my_pyscf import mcpdft\n"
     ]
    },
    {
     "name": "stdout",
     "output_type": "stream",
     "text": [
      "Done. Time elapsed: 1.9650970129296184 seconds\n"
     ]
    }
   ],
   "source": [
    "import numpy as np\n",
    "from pyscf import gto, scf, lib, mcscf\n",
    "import math\n",
    "import time\n",
    "import os\n",
    "from tools import sign_control, util\n",
    "from tools.util import load_pkl, dump_pkl\n",
    "from systems.pacircle import PACircle\n",
    "\n",
    "#Example code -- only four monomers\n",
    "NCELLS = 4 #Number of HCCH monomers\n",
    "N_PER_FRAG = 1 #Number of HCCH / LAS fragment\n",
    "DIST = 2.47 #Distance\n",
    "\n",
    "geom = PACircle(DIST,NCELLS,N_PER_FRAG,fn=\"logs/pacircle.log\",basis=\"3-21g\")\n",
    "las = geom.make_las_state_average()\n",
    "\n",
    "#Build LAS states\n",
    "print(\"Initiating LAS Model Space...\")\n",
    "start = time.perf_counter()\n",
    "las.lasci_()\n",
    "las.ci = sign_control.fix_sign(las) #sign fixing\n",
    "stop = time.perf_counter()\n",
    "print(\"Done. Time elapsed:\",stop-start,\"seconds\")\n",
    "las.dump_spaces()\n",
    "\n",
    "#Run LASSI\n",
    "print(\"Running LASSI...\")\n",
    "start = time.perf_counter()\n",
    "from mrh.my_pyscf import lassi\n",
    "lsi = lassi.LASSI(las)\n",
    "energies_lassi, civecs_lassi = lsi.kernel()\n",
    "civecs_lassi = lsi.get_sivec_vacuum_shuffle(state=0) #sign fixing\n",
    "stop = time.perf_counter()\n",
    "print(\"Done. Time elapsed:\",stop-start,\"seconds\")\n",
    "\n",
    "#MC-PDFT Integration (takes a while)\n",
    "print(\"Computing MC-PDFT Energies...\")\n",
    "start = time.perf_counter()\n",
    "from mrh.my_pyscf import mcpdft\n",
    "mc = mcpdft.LASSI(lsi, 'tPBE', las.ncas_sub, las.nelecas_sub, states=list(range(len(energies_lassi))))\n",
    "energies_lsipdft,_,_,_,_,_,_ = mc.kernel()\n",
    "stop = time.perf_counter()\n",
    "print(\"Done. Time elapsed:\",stop-start,\"seconds\")\n",
    "\n",
    "#Save to disk\n",
    "#Results from paper are saved in logs/ already\n",
    "las_charges = util.las_charges(las)\n",
    "data = {\"energies_lassi\":energies_lassi,\n",
    "        \"energies_lassipdft\":energies_lsipdft,\n",
    "        \"civecs\":civecs_lassi,\n",
    "        \"charges\":las_charges,\n",
    "        \"nfrags\":geom.nfrags,\n",
    "        \"dist\":geom.dist,\n",
    "        \"mf_coeff\":geom.mf_coeff,\n",
    "        \"mf_occ\":geom.mf_occ,\n",
    "        \"mf_ene\":geom.mf_ene,\n",
    "       }\n",
    "d = int(DIST*10)\n",
    "data_name = f\"logs/pa{NCELLS}_frag{N_PER_FRAG}_dist{d}_lsipdft\"\n",
    "dump_pkl(data,f\"{data_name}.pkl\")"
   ]
  },
  {
   "cell_type": "code",
   "execution_count": 47,
   "id": "b528a760-652c-4805-855a-2219346aaf9e",
   "metadata": {
    "execution": {
     "iopub.execute_input": "2024-08-20T03:57:50.073552Z",
     "iopub.status.busy": "2024-08-20T03:57:50.073146Z",
     "iopub.status.idle": "2024-08-20T03:57:50.493331Z",
     "shell.execute_reply": "2024-08-20T03:57:50.492562Z",
     "shell.execute_reply.started": "2024-08-20T03:57:50.073528Z"
    }
   },
   "outputs": [
    {
     "data": {
      "text/html": [
       "<div>\n",
       "<style scoped>\n",
       "    .dataframe tbody tr th:only-of-type {\n",
       "        vertical-align: middle;\n",
       "    }\n",
       "\n",
       "    .dataframe tbody tr th {\n",
       "        vertical-align: top;\n",
       "    }\n",
       "\n",
       "    .dataframe thead th {\n",
       "        text-align: right;\n",
       "    }\n",
       "</style>\n",
       "<table border=\"1\" class=\"dataframe\">\n",
       "  <thead>\n",
       "    <tr style=\"text-align: right;\">\n",
       "      <th></th>\n",
       "      <th>LASSI-tPBE0</th>\n",
       "    </tr>\n",
       "  </thead>\n",
       "  <tbody>\n",
       "    <tr>\n",
       "      <th>IP</th>\n",
       "      <td>5.10</td>\n",
       "    </tr>\n",
       "    <tr>\n",
       "      <th>EA</th>\n",
       "      <td>1.81</td>\n",
       "    </tr>\n",
       "    <tr>\n",
       "      <th>GAP</th>\n",
       "      <td>3.30</td>\n",
       "    </tr>\n",
       "  </tbody>\n",
       "</table>\n",
       "</div>"
      ],
      "text/plain": [
       "     LASSI-tPBE0\n",
       "IP          5.10\n",
       "EA          1.81\n",
       "GAP         3.30"
      ]
     },
     "execution_count": 47,
     "metadata": {},
     "output_type": "execute_result"
    },
    {
     "data": {
      "image/png": "[encoded data removed]",
      "text/plain": [
       "<Figure size 640x480 with 1 Axes>"
      ]
     },
     "metadata": {},
     "output_type": "display_data"
    }
   ],
   "source": [
    "%load_ext autoreload\n",
    "%autoreload 2\n",
    "\n",
    "from tools import bandh\n",
    "import numpy as np\n",
    "import pandas as pd\n",
    "import seaborn as sns\n",
    "import matplotlib.pyplot as plt\n",
    "from tools.util import load_pkl, LASdata, PeriodicData\n",
    "sns.set()\n",
    "\n",
    "las = LASdata(pkl_fn=\"logs/pa64_frag4_dist24_lsipdft.pkl\")\n",
    "las.make_bands()"
   ]
  }
 ],
 "metadata": {
  "kernelspec": {
   "display_name": "Python 3 (ipykernel)",
   "language": "python",
   "name": "python3"
  },
  "language_info": {
   "codemirror_mode": {
    "name": "ipython",
    "version": 3
   },
   "file_extension": ".py",
   "mimetype": "text/x-python",
   "name": "python",
   "nbconvert_exporter": "python",
   "pygments_lexer": "ipython3",
   "version": "3.10.12"
  }
 },
 "nbformat": 4,
 "nbformat_minor": 5
}
