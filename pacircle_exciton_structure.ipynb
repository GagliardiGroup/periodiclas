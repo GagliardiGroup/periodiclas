{
 "cells": [
  {
   "cell_type": "markdown",
   "id": "b88af819-d626-4e2d-ba25-04b1e05b8ed1",
   "metadata": {},
   "source": [
    "## Running LAS"
   ]
  },
  {
   "cell_type": "code",
   "execution_count": 1,
   "id": "4267fc33-6f13-4cd6-801d-92b72941b7c5",
   "metadata": {
    "execution": {
     "iopub.execute_input": "2024-08-03T00:54:35.467498Z",
     "iopub.status.busy": "2024-08-03T00:54:35.467028Z",
     "iopub.status.idle": "2024-08-03T00:54:37.775178Z",
     "shell.execute_reply": "2024-08-03T00:54:37.774283Z",
     "shell.execute_reply.started": "2024-08-03T00:54:35.467464Z"
    }
   },
   "outputs": [
    {
     "name": "stderr",
     "output_type": "stream",
     "text": [
      "/home/king1305/Apps/pyscf/pyscf/dft/libxc.py:772: UserWarning: Since PySCF-2.3, B3LYP (and B3P86) are changed to the VWN-RPA variant, corresponding to the original definition by Stephens et al. (issue 1480) and the same as the B3LYP functional in Gaussian. To restore the VWN5 definition, you can put the setting \"B3LYP_WITH_VWN5 = True\" in pyscf_conf.py\n",
      "  warnings.warn('Since PySCF-2.3, B3LYP (and B3P86) are changed to the VWN-RPA variant, '\n"
     ]
    },
    {
     "name": "stdout",
     "output_type": "stream",
     "text": [
      "overwrite output file: logs/pacircle.log\n",
      "Initiating LAS Model Space...\n",
      "Done. Time elapsed: 0.15328466100618243 seconds\n",
      "Running LASSI...\n",
      "Done. Time elapsed: 0.07544005196541548 seconds\n",
      "Computing MC-PDFT Energies...\n"
     ]
    },
    {
     "name": "stderr",
     "output_type": "stream",
     "text": [
      "/tmp/ipykernel_1445205/3595808497.py:65: FutureWarning: Most MC-PDFT and MC-DCFT modules have been moved to pyscf-forge (github.com/pyscf/pyscf-forge) and will be removed from mrh soon.\n",
      "  from mrh.my_pyscf import mcpdft\n"
     ]
    },
    {
     "ename": "KeyError",
     "evalue": "\"Unable to synchronously open object (object 'rdm1s_1' doesn't exist)\"",
     "output_type": "error",
     "traceback": [
      "\u001b[0;31m---------------------------------------------------------------------------\u001b[0m",
      "\u001b[0;31mKeyError\u001b[0m                                  Traceback (most recent call last)",
      "Cell \u001b[0;32mIn[1], line 67\u001b[0m\n\u001b[1;32m     65\u001b[0m \u001b[38;5;28;01mfrom\u001b[39;00m \u001b[38;5;21;01mmrh\u001b[39;00m\u001b[38;5;21;01m.\u001b[39;00m\u001b[38;5;21;01mmy_pyscf\u001b[39;00m \u001b[38;5;28;01mimport\u001b[39;00m mcpdft\n\u001b[1;32m     66\u001b[0m mc \u001b[38;5;241m=\u001b[39m mcpdft\u001b[38;5;241m.\u001b[39mLASSI(lsi, \u001b[38;5;124m'\u001b[39m\u001b[38;5;124mtPBE\u001b[39m\u001b[38;5;124m'\u001b[39m, las\u001b[38;5;241m.\u001b[39mncas_sub, las\u001b[38;5;241m.\u001b[39mnelecas_sub, states\u001b[38;5;241m=\u001b[39m\u001b[38;5;28mlist\u001b[39m(\u001b[38;5;28mrange\u001b[39m(geom\u001b[38;5;241m.\u001b[39mnfrags\u001b[38;5;241m+\u001b[39m\u001b[38;5;241m1\u001b[39m)))\n\u001b[0;32m---> 67\u001b[0m energies_lsipdft,_,_,_,_,_,_ \u001b[38;5;241m=\u001b[39m \u001b[43mmc\u001b[49m\u001b[38;5;241;43m.\u001b[39;49m\u001b[43mkernel\u001b[49m\u001b[43m(\u001b[49m\u001b[43m)\u001b[49m\n\u001b[1;32m     68\u001b[0m stop \u001b[38;5;241m=\u001b[39m time\u001b[38;5;241m.\u001b[39mperf_counter()\n\u001b[1;32m     69\u001b[0m \u001b[38;5;28mprint\u001b[39m(\u001b[38;5;124m\"\u001b[39m\u001b[38;5;124mDone. Time elapsed:\u001b[39m\u001b[38;5;124m\"\u001b[39m,stop\u001b[38;5;241m-\u001b[39mstart,\u001b[38;5;124m\"\u001b[39m\u001b[38;5;124mseconds\u001b[39m\u001b[38;5;124m\"\u001b[39m)\n",
      "File \u001b[0;32m~/Apps/pyscf_ext/pyscf-forge/pyscf/mcpdft/mcpdft.py:487\u001b[0m, in \u001b[0;36m_PDFT.kernel\u001b[0;34m(self, mo_coeff, ci0, otxc, grids_attr, grids_level, **kwargs)\u001b[0m\n\u001b[1;32m    484\u001b[0m \u001b[38;5;28;01mdef\u001b[39;00m \u001b[38;5;21mkernel\u001b[39m (\u001b[38;5;28mself\u001b[39m, mo_coeff\u001b[38;5;241m=\u001b[39m\u001b[38;5;28;01mNone\u001b[39;00m, ci0\u001b[38;5;241m=\u001b[39m\u001b[38;5;28;01mNone\u001b[39;00m, otxc\u001b[38;5;241m=\u001b[39m\u001b[38;5;28;01mNone\u001b[39;00m, grids_attr\u001b[38;5;241m=\u001b[39m\u001b[38;5;28;01mNone\u001b[39;00m,\n\u001b[1;32m    485\u001b[0m             grids_level\u001b[38;5;241m=\u001b[39m\u001b[38;5;28;01mNone\u001b[39;00m, \u001b[38;5;241m*\u001b[39m\u001b[38;5;241m*\u001b[39mkwargs):\n\u001b[1;32m    486\u001b[0m     \u001b[38;5;28mself\u001b[39m\u001b[38;5;241m.\u001b[39moptimize_mcscf_(mo_coeff\u001b[38;5;241m=\u001b[39mmo_coeff, ci0\u001b[38;5;241m=\u001b[39mci0, \u001b[38;5;241m*\u001b[39m\u001b[38;5;241m*\u001b[39mkwargs)\n\u001b[0;32m--> 487\u001b[0m     \u001b[38;5;28;43mself\u001b[39;49m\u001b[38;5;241;43m.\u001b[39;49m\u001b[43mcompute_pdft_energy_\u001b[49m\u001b[43m(\u001b[49m\u001b[43motxc\u001b[49m\u001b[38;5;241;43m=\u001b[39;49m\u001b[43motxc\u001b[49m\u001b[43m,\u001b[49m\u001b[43m \u001b[49m\u001b[43mgrids_attr\u001b[49m\u001b[38;5;241;43m=\u001b[39;49m\u001b[43mgrids_attr\u001b[49m\u001b[43m,\u001b[49m\n\u001b[1;32m    488\u001b[0m \u001b[43m                              \u001b[49m\u001b[43mgrids_level\u001b[49m\u001b[38;5;241;43m=\u001b[39;49m\u001b[43mgrids_level\u001b[49m\u001b[43m,\u001b[49m\u001b[43m \u001b[49m\u001b[38;5;241;43m*\u001b[39;49m\u001b[38;5;241;43m*\u001b[39;49m\u001b[43mkwargs\u001b[49m\u001b[43m)\u001b[49m\n\u001b[1;32m    489\u001b[0m     \u001b[38;5;66;03m# TODO: edit StateAverageMCSCF._finalize in pyscf.mcscf.addons\u001b[39;00m\n\u001b[1;32m    490\u001b[0m     \u001b[38;5;66;03m# to use the proper name of the class rather than \"CASCI\", so\u001b[39;00m\n\u001b[1;32m    491\u001b[0m     \u001b[38;5;66;03m# that I can meaningfully play with \"finalize\" here\u001b[39;00m\n\u001b[1;32m    492\u001b[0m     \u001b[38;5;28;01mreturn\u001b[39;00m (\u001b[38;5;28mself\u001b[39m\u001b[38;5;241m.\u001b[39me_tot, \u001b[38;5;28mself\u001b[39m\u001b[38;5;241m.\u001b[39me_ot, \u001b[38;5;28mself\u001b[39m\u001b[38;5;241m.\u001b[39me_mcscf, \u001b[38;5;28mself\u001b[39m\u001b[38;5;241m.\u001b[39me_cas, \u001b[38;5;28mself\u001b[39m\u001b[38;5;241m.\u001b[39mci,\n\u001b[1;32m    493\u001b[0m         \u001b[38;5;28mself\u001b[39m\u001b[38;5;241m.\u001b[39mmo_coeff, \u001b[38;5;28mself\u001b[39m\u001b[38;5;241m.\u001b[39mmo_energy)\n",
      "File \u001b[0;32m~/Apps/mrh/my_pyscf/mcpdft/laspdft.py:122\u001b[0m, in \u001b[0;36mget_mcpdft_child_class.<locals>.PDFT.compute_pdft_energy_\u001b[0;34m(self, mo_coeff, ci, ot, otxc, grids_level, grids_attr, states, **kwargs)\u001b[0m\n\u001b[1;32m    120\u001b[0m \u001b[38;5;28;01mdef\u001b[39;00m \u001b[38;5;21mcompute_pdft_energy_\u001b[39m(\u001b[38;5;28mself\u001b[39m, mo_coeff\u001b[38;5;241m=\u001b[39m\u001b[38;5;28;01mNone\u001b[39;00m, ci\u001b[38;5;241m=\u001b[39m\u001b[38;5;28;01mNone\u001b[39;00m, ot\u001b[38;5;241m=\u001b[39m\u001b[38;5;28;01mNone\u001b[39;00m, otxc\u001b[38;5;241m=\u001b[39m\u001b[38;5;28;01mNone\u001b[39;00m,\n\u001b[1;32m    121\u001b[0m                      grids_level\u001b[38;5;241m=\u001b[39m\u001b[38;5;28;01mNone\u001b[39;00m, grids_attr\u001b[38;5;241m=\u001b[39m\u001b[38;5;28;01mNone\u001b[39;00m, states\u001b[38;5;241m=\u001b[39mstates, \u001b[38;5;241m*\u001b[39m\u001b[38;5;241m*\u001b[39mkwargs):\n\u001b[0;32m--> 122\u001b[0m     \u001b[38;5;28;01mreturn\u001b[39;00m \u001b[43m_LASPDFT\u001b[49m\u001b[38;5;241;43m.\u001b[39;49m\u001b[43mcompute_pdft_energy_\u001b[49m\u001b[43m(\u001b[49m\u001b[38;5;28;43mself\u001b[39;49m\u001b[43m,\u001b[49m\u001b[43m \u001b[49m\u001b[43mmo_coeff\u001b[49m\u001b[38;5;241;43m=\u001b[39;49m\u001b[43mmo_coeff\u001b[49m\u001b[43m,\u001b[49m\u001b[43m \u001b[49m\u001b[43mci\u001b[49m\u001b[38;5;241;43m=\u001b[39;49m\u001b[43mci\u001b[49m\u001b[43m,\u001b[49m\u001b[43m \u001b[49m\u001b[43mot\u001b[49m\u001b[38;5;241;43m=\u001b[39;49m\u001b[43mot\u001b[49m\u001b[43m,\u001b[49m\u001b[43m \u001b[49m\u001b[43motxc\u001b[49m\u001b[38;5;241;43m=\u001b[39;49m\u001b[43motxc\u001b[49m\u001b[43m,\u001b[49m\n\u001b[1;32m    123\u001b[0m \u001b[43m                     \u001b[49m\u001b[43mgrids_level\u001b[49m\u001b[38;5;241;43m=\u001b[39;49m\u001b[43mgrids_level\u001b[49m\u001b[43m,\u001b[49m\u001b[43m \u001b[49m\u001b[43mgrids_attr\u001b[49m\u001b[38;5;241;43m=\u001b[39;49m\u001b[43mgrids_attr\u001b[49m\u001b[43m,\u001b[49m\u001b[43m \u001b[49m\u001b[38;5;241;43m*\u001b[39;49m\u001b[38;5;241;43m*\u001b[39;49m\u001b[43mkwargs\u001b[49m\u001b[43m)\u001b[49m\n",
      "File \u001b[0;32m~/Apps/mrh/my_pyscf/mcpdft/laspdft.py:76\u001b[0m, in \u001b[0;36m_LASPDFT.compute_pdft_energy_\u001b[0;34m(self, mo_coeff, ci, ot, otxc, grids_level, grids_attr, **kwargs)\u001b[0m\n\u001b[1;32m     74\u001b[0m nroots \u001b[38;5;241m=\u001b[39m \u001b[38;5;28mgetattr\u001b[39m(\u001b[38;5;28mself\u001b[39m\u001b[38;5;241m.\u001b[39mfcisolver, \u001b[38;5;124m'\u001b[39m\u001b[38;5;124mnroots\u001b[39m\u001b[38;5;124m'\u001b[39m, \u001b[38;5;241m1\u001b[39m)\n\u001b[1;32m     75\u001b[0m \u001b[38;5;28;01mif\u001b[39;00m \u001b[38;5;28misinstance\u001b[39m(nroots, \u001b[38;5;28mlist\u001b[39m):\n\u001b[0;32m---> 76\u001b[0m     epdft \u001b[38;5;241m=\u001b[39m [\u001b[38;5;28mself\u001b[39m\u001b[38;5;241m.\u001b[39menergy_tot(mo_coeff\u001b[38;5;241m=\u001b[39m\u001b[38;5;28mself\u001b[39m\u001b[38;5;241m.\u001b[39mmo_coeff, ci\u001b[38;5;241m=\u001b[39m\u001b[38;5;28mself\u001b[39m\u001b[38;5;241m.\u001b[39mci, state\u001b[38;5;241m=\u001b[39mix,\n\u001b[1;32m     77\u001b[0m                          logger_tag\u001b[38;5;241m=\u001b[39m\u001b[38;5;124m'\u001b[39m\u001b[38;5;124mMC-PDFT state \u001b[39m\u001b[38;5;132;01m{}\u001b[39;00m\u001b[38;5;124m'\u001b[39m\u001b[38;5;241m.\u001b[39mformat(ix))\n\u001b[1;32m     78\u001b[0m                         \u001b[38;5;28;01mfor\u001b[39;00m ix \u001b[38;5;129;01min\u001b[39;00m nroots]\n\u001b[1;32m     79\u001b[0m \u001b[38;5;28;01melse\u001b[39;00m:\n\u001b[1;32m     80\u001b[0m     epdft \u001b[38;5;241m=\u001b[39m [\u001b[38;5;28mself\u001b[39m\u001b[38;5;241m.\u001b[39menergy_tot(mo_coeff\u001b[38;5;241m=\u001b[39m\u001b[38;5;28mself\u001b[39m\u001b[38;5;241m.\u001b[39mmo_coeff, ci\u001b[38;5;241m=\u001b[39m\u001b[38;5;28mself\u001b[39m\u001b[38;5;241m.\u001b[39mci, state\u001b[38;5;241m=\u001b[39mix,\n\u001b[1;32m     81\u001b[0m                          logger_tag\u001b[38;5;241m=\u001b[39m\u001b[38;5;124m'\u001b[39m\u001b[38;5;124mMC-PDFT state \u001b[39m\u001b[38;5;132;01m{}\u001b[39;00m\u001b[38;5;124m'\u001b[39m\u001b[38;5;241m.\u001b[39mformat(ix))\n\u001b[1;32m     82\u001b[0m                         \u001b[38;5;28;01mfor\u001b[39;00m ix \u001b[38;5;129;01min\u001b[39;00m \u001b[38;5;28mrange\u001b[39m(nroots)]\n",
      "File \u001b[0;32m~/Apps/mrh/my_pyscf/mcpdft/laspdft.py:76\u001b[0m, in \u001b[0;36m<listcomp>\u001b[0;34m(.0)\u001b[0m\n\u001b[1;32m     74\u001b[0m nroots \u001b[38;5;241m=\u001b[39m \u001b[38;5;28mgetattr\u001b[39m(\u001b[38;5;28mself\u001b[39m\u001b[38;5;241m.\u001b[39mfcisolver, \u001b[38;5;124m'\u001b[39m\u001b[38;5;124mnroots\u001b[39m\u001b[38;5;124m'\u001b[39m, \u001b[38;5;241m1\u001b[39m)\n\u001b[1;32m     75\u001b[0m \u001b[38;5;28;01mif\u001b[39;00m \u001b[38;5;28misinstance\u001b[39m(nroots, \u001b[38;5;28mlist\u001b[39m):\n\u001b[0;32m---> 76\u001b[0m     epdft \u001b[38;5;241m=\u001b[39m [\u001b[38;5;28;43mself\u001b[39;49m\u001b[38;5;241;43m.\u001b[39;49m\u001b[43menergy_tot\u001b[49m\u001b[43m(\u001b[49m\u001b[43mmo_coeff\u001b[49m\u001b[38;5;241;43m=\u001b[39;49m\u001b[38;5;28;43mself\u001b[39;49m\u001b[38;5;241;43m.\u001b[39;49m\u001b[43mmo_coeff\u001b[49m\u001b[43m,\u001b[49m\u001b[43m \u001b[49m\u001b[43mci\u001b[49m\u001b[38;5;241;43m=\u001b[39;49m\u001b[38;5;28;43mself\u001b[39;49m\u001b[38;5;241;43m.\u001b[39;49m\u001b[43mci\u001b[49m\u001b[43m,\u001b[49m\u001b[43m \u001b[49m\u001b[43mstate\u001b[49m\u001b[38;5;241;43m=\u001b[39;49m\u001b[43mix\u001b[49m\u001b[43m,\u001b[49m\n\u001b[1;32m     77\u001b[0m \u001b[43m                         \u001b[49m\u001b[43mlogger_tag\u001b[49m\u001b[38;5;241;43m=\u001b[39;49m\u001b[38;5;124;43m'\u001b[39;49m\u001b[38;5;124;43mMC-PDFT state \u001b[39;49m\u001b[38;5;132;43;01m{}\u001b[39;49;00m\u001b[38;5;124;43m'\u001b[39;49m\u001b[38;5;241;43m.\u001b[39;49m\u001b[43mformat\u001b[49m\u001b[43m(\u001b[49m\u001b[43mix\u001b[49m\u001b[43m)\u001b[49m\u001b[43m)\u001b[49m\n\u001b[1;32m     78\u001b[0m                         \u001b[38;5;28;01mfor\u001b[39;00m ix \u001b[38;5;129;01min\u001b[39;00m nroots]\n\u001b[1;32m     79\u001b[0m \u001b[38;5;28;01melse\u001b[39;00m:\n\u001b[1;32m     80\u001b[0m     epdft \u001b[38;5;241m=\u001b[39m [\u001b[38;5;28mself\u001b[39m\u001b[38;5;241m.\u001b[39menergy_tot(mo_coeff\u001b[38;5;241m=\u001b[39m\u001b[38;5;28mself\u001b[39m\u001b[38;5;241m.\u001b[39mmo_coeff, ci\u001b[38;5;241m=\u001b[39m\u001b[38;5;28mself\u001b[39m\u001b[38;5;241m.\u001b[39mci, state\u001b[38;5;241m=\u001b[39mix,\n\u001b[1;32m     81\u001b[0m                          logger_tag\u001b[38;5;241m=\u001b[39m\u001b[38;5;124m'\u001b[39m\u001b[38;5;124mMC-PDFT state \u001b[39m\u001b[38;5;132;01m{}\u001b[39;00m\u001b[38;5;124m'\u001b[39m\u001b[38;5;241m.\u001b[39mformat(ix))\n\u001b[1;32m     82\u001b[0m                         \u001b[38;5;28;01mfor\u001b[39;00m ix \u001b[38;5;129;01min\u001b[39;00m \u001b[38;5;28mrange\u001b[39m(nroots)]\n",
      "File \u001b[0;32m~/Apps/pyscf_ext/pyscf-forge/pyscf/mcpdft/mcpdft.py:679\u001b[0m, in \u001b[0;36m_PDFT.energy_tot\u001b[0;34m(self, mo_coeff, ci, ot, state, verbose, otxc, grids_level, grids_attr, logger_tag)\u001b[0m\n\u001b[1;32m    677\u001b[0m \u001b[38;5;28;01melif\u001b[39;00m ot \u001b[38;5;129;01mis\u001b[39;00m \u001b[38;5;28;01mNone\u001b[39;00m:\n\u001b[1;32m    678\u001b[0m     ot \u001b[38;5;241m=\u001b[39m \u001b[38;5;28mself\u001b[39m\u001b[38;5;241m.\u001b[39motfnal\n\u001b[0;32m--> 679\u001b[0m e_tot, e_ot \u001b[38;5;241m=\u001b[39m \u001b[43menergy_tot\u001b[49m\u001b[43m \u001b[49m\u001b[43m(\u001b[49m\u001b[38;5;28;43mself\u001b[39;49m\u001b[43m,\u001b[49m\u001b[43m \u001b[49m\u001b[43mmo_coeff\u001b[49m\u001b[38;5;241;43m=\u001b[39;49m\u001b[43mmo_coeff\u001b[49m\u001b[43m,\u001b[49m\u001b[43m \u001b[49m\u001b[43mot\u001b[49m\u001b[38;5;241;43m=\u001b[39;49m\u001b[43mot\u001b[49m\u001b[43m,\u001b[49m\u001b[43m \u001b[49m\u001b[43mci\u001b[49m\u001b[38;5;241;43m=\u001b[39;49m\u001b[43mci\u001b[49m\u001b[43m,\u001b[49m\n\u001b[1;32m    680\u001b[0m \u001b[43m    \u001b[49m\u001b[43mstate\u001b[49m\u001b[38;5;241;43m=\u001b[39;49m\u001b[43mstate\u001b[49m\u001b[43m,\u001b[49m\u001b[43m \u001b[49m\u001b[43mverbose\u001b[49m\u001b[38;5;241;43m=\u001b[39;49m\u001b[43mverbose\u001b[49m\u001b[43m)\u001b[49m\n\u001b[1;32m    681\u001b[0m logger\u001b[38;5;241m.\u001b[39mnote (\u001b[38;5;28mself\u001b[39m, \u001b[38;5;124m'\u001b[39m\u001b[38;5;132;01m%s\u001b[39;00m\u001b[38;5;124m E = \u001b[39m\u001b[38;5;132;01m%s\u001b[39;00m\u001b[38;5;124m, Eot(\u001b[39m\u001b[38;5;132;01m%s\u001b[39;00m\u001b[38;5;124m) = \u001b[39m\u001b[38;5;132;01m%s\u001b[39;00m\u001b[38;5;124m'\u001b[39m, logger_tag,\n\u001b[1;32m    682\u001b[0m     e_tot, ot\u001b[38;5;241m.\u001b[39motxc, e_ot)\n\u001b[1;32m    683\u001b[0m \u001b[38;5;28;01mreturn\u001b[39;00m e_tot, e_ot\n",
      "File \u001b[0;32m~/Apps/pyscf_ext/pyscf-forge/pyscf/mcpdft/mcpdft.py:72\u001b[0m, in \u001b[0;36menergy_tot\u001b[0;34m(mc, mo_coeff, ci, ot, state, verbose)\u001b[0m\n\u001b[1;32m     67\u001b[0m t0 \u001b[38;5;241m=\u001b[39m (logger\u001b[38;5;241m.\u001b[39mprocess_clock (), logger\u001b[38;5;241m.\u001b[39mperf_counter ())\n\u001b[1;32m     69\u001b[0m \u001b[38;5;66;03m# Allow MC-PDFT to be subclassed, and also allow this function to be\u001b[39;00m\n\u001b[1;32m     70\u001b[0m \u001b[38;5;66;03m# called without mc being an instance of MC-PDFT class\u001b[39;00m\n\u001b[0;32m---> 72\u001b[0m casdm1s \u001b[38;5;241m=\u001b[39m \u001b[43mmc\u001b[49m\u001b[38;5;241;43m.\u001b[39;49m\u001b[43mmake_one_casdm1s\u001b[49m\u001b[43m \u001b[49m\u001b[43m(\u001b[49m\u001b[43mci\u001b[49m\u001b[43m,\u001b[49m\u001b[43m \u001b[49m\u001b[43mstate\u001b[49m\u001b[38;5;241;43m=\u001b[39;49m\u001b[43mstate\u001b[49m\u001b[43m)\u001b[49m\n\u001b[1;32m     73\u001b[0m casdm2 \u001b[38;5;241m=\u001b[39m mc\u001b[38;5;241m.\u001b[39mmake_one_casdm2 (ci, state\u001b[38;5;241m=\u001b[39mstate)\n\u001b[1;32m     74\u001b[0m t0 \u001b[38;5;241m=\u001b[39m logger\u001b[38;5;241m.\u001b[39mtimer (ot, \u001b[38;5;124m'\u001b[39m\u001b[38;5;124mrdms\u001b[39m\u001b[38;5;124m'\u001b[39m, \u001b[38;5;241m*\u001b[39mt0)\n",
      "File \u001b[0;32m~/Apps/mrh/my_pyscf/mcpdft/laspdft.py:166\u001b[0m, in \u001b[0;36mget_mcpdft_child_class.<locals>.PDFT.make_one_casdm1s\u001b[0;34m(self, ci, state, **kwargs)\u001b[0m\n\u001b[1;32m    164\u001b[0m \u001b[38;5;28;01mdef\u001b[39;00m \u001b[38;5;21mmake_one_casdm1s\u001b[39m(\u001b[38;5;28mself\u001b[39m, ci\u001b[38;5;241m=\u001b[39m\u001b[38;5;28;01mNone\u001b[39;00m, state\u001b[38;5;241m=\u001b[39m\u001b[38;5;241m0\u001b[39m, \u001b[38;5;241m*\u001b[39m\u001b[38;5;241m*\u001b[39mkwargs):\n\u001b[1;32m    165\u001b[0m     rdmstmpfile \u001b[38;5;241m=\u001b[39m \u001b[38;5;28mself\u001b[39m\u001b[38;5;241m.\u001b[39mrdmstmpfile\n\u001b[0;32m--> 166\u001b[0m     \u001b[38;5;28;01mreturn\u001b[39;00m \u001b[43mmake_casdm1s\u001b[49m\u001b[43m(\u001b[49m\u001b[43mrdmstmpfile\u001b[49m\u001b[43m,\u001b[49m\u001b[43m \u001b[49m\u001b[43mstate\u001b[49m\u001b[43m)\u001b[49m\n",
      "File \u001b[0;32m~/Apps/mrh/my_pyscf/mcpdft/laspdft.py:26\u001b[0m, in \u001b[0;36mmake_casdm1s\u001b[0;34m(filename, i)\u001b[0m\n\u001b[1;32m     24\u001b[0m \u001b[38;5;28;01mwith\u001b[39;00m h5py\u001b[38;5;241m.\u001b[39mFile(filename, \u001b[38;5;124m'\u001b[39m\u001b[38;5;124mr\u001b[39m\u001b[38;5;124m'\u001b[39m) \u001b[38;5;28;01mas\u001b[39;00m f:\n\u001b[1;32m     25\u001b[0m     rdm1s_key \u001b[38;5;241m=\u001b[39m \u001b[38;5;124mf\u001b[39m\u001b[38;5;124m'\u001b[39m\u001b[38;5;124mrdm1s_\u001b[39m\u001b[38;5;132;01m{\u001b[39;00mi\u001b[38;5;132;01m}\u001b[39;00m\u001b[38;5;124m'\u001b[39m\n\u001b[0;32m---> 26\u001b[0m     rdm1s \u001b[38;5;241m=\u001b[39m \u001b[43mf\u001b[49m\u001b[43m[\u001b[49m\u001b[43mrdm1s_key\u001b[49m\u001b[43m]\u001b[49m[:]\n\u001b[1;32m     27\u001b[0m     rdm1s \u001b[38;5;241m=\u001b[39m np\u001b[38;5;241m.\u001b[39marray(rdm1s)\n\u001b[1;32m     28\u001b[0m \u001b[38;5;28;01mreturn\u001b[39;00m rdm1s\n",
      "File \u001b[0;32mh5py/_objects.pyx:54\u001b[0m, in \u001b[0;36mh5py._objects.with_phil.wrapper\u001b[0;34m()\u001b[0m\n",
      "File \u001b[0;32mh5py/_objects.pyx:55\u001b[0m, in \u001b[0;36mh5py._objects.with_phil.wrapper\u001b[0;34m()\u001b[0m\n",
      "File \u001b[0;32m~/.local/lib/python3.10/site-packages/h5py/_hl/group.py:357\u001b[0m, in \u001b[0;36mGroup.__getitem__\u001b[0;34m(self, name)\u001b[0m\n\u001b[1;32m    355\u001b[0m         \u001b[38;5;28;01mraise\u001b[39;00m \u001b[38;5;167;01mValueError\u001b[39;00m(\u001b[38;5;124m\"\u001b[39m\u001b[38;5;124mInvalid HDF5 object reference\u001b[39m\u001b[38;5;124m\"\u001b[39m)\n\u001b[1;32m    356\u001b[0m \u001b[38;5;28;01melif\u001b[39;00m \u001b[38;5;28misinstance\u001b[39m(name, (\u001b[38;5;28mbytes\u001b[39m, \u001b[38;5;28mstr\u001b[39m)):\n\u001b[0;32m--> 357\u001b[0m     oid \u001b[38;5;241m=\u001b[39m \u001b[43mh5o\u001b[49m\u001b[38;5;241;43m.\u001b[39;49m\u001b[43mopen\u001b[49m\u001b[43m(\u001b[49m\u001b[38;5;28;43mself\u001b[39;49m\u001b[38;5;241;43m.\u001b[39;49m\u001b[43mid\u001b[49m\u001b[43m,\u001b[49m\u001b[43m \u001b[49m\u001b[38;5;28;43mself\u001b[39;49m\u001b[38;5;241;43m.\u001b[39;49m\u001b[43m_e\u001b[49m\u001b[43m(\u001b[49m\u001b[43mname\u001b[49m\u001b[43m)\u001b[49m\u001b[43m,\u001b[49m\u001b[43m \u001b[49m\u001b[43mlapl\u001b[49m\u001b[38;5;241;43m=\u001b[39;49m\u001b[38;5;28;43mself\u001b[39;49m\u001b[38;5;241;43m.\u001b[39;49m\u001b[43m_lapl\u001b[49m\u001b[43m)\u001b[49m\n\u001b[1;32m    358\u001b[0m \u001b[38;5;28;01melse\u001b[39;00m:\n\u001b[1;32m    359\u001b[0m     \u001b[38;5;28;01mraise\u001b[39;00m \u001b[38;5;167;01mTypeError\u001b[39;00m(\u001b[38;5;124m\"\u001b[39m\u001b[38;5;124mAccessing a group is done with bytes or str, \u001b[39m\u001b[38;5;124m\"\u001b[39m\n\u001b[1;32m    360\u001b[0m                     \u001b[38;5;124m\"\u001b[39m\u001b[38;5;124mnot \u001b[39m\u001b[38;5;132;01m{}\u001b[39;00m\u001b[38;5;124m\"\u001b[39m\u001b[38;5;241m.\u001b[39mformat(\u001b[38;5;28mtype\u001b[39m(name)))\n",
      "File \u001b[0;32mh5py/_objects.pyx:54\u001b[0m, in \u001b[0;36mh5py._objects.with_phil.wrapper\u001b[0;34m()\u001b[0m\n",
      "File \u001b[0;32mh5py/_objects.pyx:55\u001b[0m, in \u001b[0;36mh5py._objects.with_phil.wrapper\u001b[0;34m()\u001b[0m\n",
      "File \u001b[0;32mh5py/h5o.pyx:189\u001b[0m, in \u001b[0;36mh5py.h5o.open\u001b[0;34m()\u001b[0m\n",
      "\u001b[0;31mKeyError\u001b[0m: \"Unable to synchronously open object (object 'rdm1s_1' doesn't exist)\""
     ]
    }
   ],
   "source": [
    "import numpy as np\n",
    "from pyscf import gto, scf, lib, mcscf\n",
    "import math\n",
    "import time\n",
    "import os\n",
    "from tools import sign_control, util\n",
    "from tools.util import load_pkl, dump_pkl\n",
    "from systems.pacircle import PACircle\n",
    "\n",
    "NCELLS = 2\n",
    "N_PER_FRAG = 2\n",
    "DIST = 2.47\n",
    "\n",
    "class PACircleEx(PACircle):\n",
    "    def make_las_state_average(self):\n",
    "        las = self.make_las_init_guess()\n",
    "        nfrags = self.nfrags\n",
    "        \n",
    "        #Lists of N Lists: Define N root spaces for LASSI\n",
    "        las_charges = []\n",
    "        las_spins = [] #2s\n",
    "        las_smults = [] #2s+1\n",
    "        las_wfnsyms = []\n",
    "        \n",
    "        #Neutral rootspace as reference\n",
    "        las_charges += [[0]*nfrags]\n",
    "        las_spins += [[0]*nfrags]\n",
    "        las_smults += [[las_spins[0][0]+1]*nfrags]\n",
    "        \n",
    "        nrootspaces = len(las_charges)\n",
    "        las_weights = np.ones(nrootspaces)/nrootspaces\n",
    "        las = las.state_average(las_weights,las_charges,las_spins,las_smults)\n",
    "        las.max_cycle_macro = 100\n",
    "\n",
    "        lroots = np.ones([nfrags,nrootspaces])*2 #excited states\n",
    "        self.lroots = lroots.astype(int)\n",
    "\n",
    "        return las\n",
    "\n",
    "geom = PACircleEx(DIST,NCELLS,N_PER_FRAG,fn=\"logs/pacircle.log\",basis=\"3-21g\")\n",
    "las = geom.make_las_state_average()\n",
    "\n",
    "#Build LAS states\n",
    "print(\"Initiating LAS Model Space...\")\n",
    "start = time.perf_counter()\n",
    "las.lasci_(lroots=geom.lroots)\n",
    "las.ci = sign_control.fix_sign(las) #sign fixing\n",
    "stop = time.perf_counter()\n",
    "print(\"Done. Time elapsed:\",stop-start,\"seconds\")\n",
    "las.dump_spaces()\n",
    "\n",
    "#Run LASSI\n",
    "print(\"Running LASSI...\")\n",
    "start = time.perf_counter()\n",
    "from mrh.my_pyscf import lassi\n",
    "lsi = lassi.LASSI(las)\n",
    "energies_lassi, civecs_lassi = lsi.kernel(lroots=geom.lroots)\n",
    "civecs_lassi = lsi.get_sivec_vacuum_shuffle(state=0) #sign fixing\n",
    "stop = time.perf_counter()\n",
    "print(\"Done. Time elapsed:\",stop-start,\"seconds\")\n",
    "\n",
    "#MC-PDFT Integration (takes a while)\n",
    "print(\"Computing MC-PDFT Energies...\")\n",
    "start = time.perf_counter()\n",
    "from mrh.my_pyscf import mcpdft\n",
    "mc = mcpdft.LASSI(lsi, 'tPBE', las.ncas_sub, las.nelecas_sub, states=list(range(geom.nfrags+1)))\n",
    "energies_lsipdft,_,_,_,_,_,_ = mc.kernel()\n",
    "stop = time.perf_counter()\n",
    "print(\"Done. Time elapsed:\",stop-start,\"seconds\")\n",
    "\n",
    "#Save to disk\n",
    "#Results from paper are saved in logs/ already\n",
    "las_charges = util.las_charges(las)\n",
    "data = {\"energies_lassi\":energies_lassi,\n",
    "        \"energies_lassipdft\":energies_lsipdft,\n",
    "        \"civecs\":civecs_lassi,\n",
    "        \"charges\":las_charges,\n",
    "        \"nfrags\":geom.nfrags,\n",
    "        \"dist\":geom.dist,\n",
    "        \"mf_coeff\":geom.mf_coeff,\n",
    "        \"mf_occ\":geom.mf_occ,\n",
    "        \"mf_ene\":geom.mf_ene,\n",
    "       }\n",
    "d = int(DIST*10)\n",
    "data_name = f\"logs/pa{NCELLS}_frag{N_PER_FRAG}_dist{d}_lsipdft\"\n",
    "dump_pkl(data,f\"{data_name}.pkl\")"
   ]
  }
 ],
 "metadata": {
  "kernelspec": {
   "display_name": "Python 3 (ipykernel)",
   "language": "python",
   "name": "python3"
  },
  "language_info": {
   "codemirror_mode": {
    "name": "ipython",
    "version": 3
   },
   "file_extension": ".py",
   "mimetype": "text/x-python",
   "name": "python",
   "nbconvert_exporter": "python",
   "pygments_lexer": "ipython3",
   "version": "3.10.12"
  }
 },
 "nbformat": 4,
 "nbformat_minor": 5
}
