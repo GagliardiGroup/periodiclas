{
 "cells": [
  {
   "cell_type": "code",
   "execution_count": 3,
   "id": "b68908c9-a74c-48ba-a7ca-422a73a3ecc9",
   "metadata": {
    "execution": {
     "iopub.execute_input": "2024-08-01T21:26:06.494168Z",
     "iopub.status.busy": "2024-08-01T21:26:06.493748Z",
     "iopub.status.idle": "2024-08-01T21:26:27.136429Z",
     "shell.execute_reply": "2024-08-01T21:26:27.135566Z",
     "shell.execute_reply.started": "2024-08-01T21:26:06.494133Z"
    }
   },
   "outputs": [],
   "source": [
    "import numpy as np\n",
    "import time\n",
    "from pyscf import scf\n",
    "from pyscf.pbc import df as pdf\n",
    "from pyscf.pbc import scf as pbchf\n",
    "from pyscf.pbc import gto as pbcgto\n",
    "from pyscf.pbc import cc as pbccc\n",
    "from pyscf.pbc import tools\n",
    "import matplotlib.pyplot as plt\n",
    "import pandas as pd\n",
    "\n",
    "def make_cell(dist,num_h,sep=17.479):\n",
    "    atoms = []\n",
    "    for i in range(num_h):\n",
    "        atoms += [[\"H\",((dist*i),0,0)]]\n",
    "    cell = pbcgto.Cell()\n",
    "    cell.build(a = [[num_h*dist,0,0],[0,sep,0],[0,0,sep]],\n",
    "               atom = atoms,\n",
    "               verbose = 0,\n",
    "               basis='sto3g')\n",
    "    return cell\n",
    "\n",
    "def make_kpts(N,cell,kdover2pi=False):\n",
    "    from pyscf.lib import param\n",
    "    angstrom_to_bohr = 1/param.BOHR\n",
    "    d = cell.a[0][0]\n",
    "    if cell.unit not in [\"bohr\",\"B\"]:\n",
    "        d *= angstrom_to_bohr\n",
    "    ks = np.arange(N)/N\n",
    "    b = 2*np.pi/d\n",
    "    kpts = np.zeros((N,3))\n",
    "    kpts[:,0] = ks*b #Cool!\n",
    "    #Returns k, to get to kd/2pi multiply by d/2pi\n",
    "    if kdover2pi:\n",
    "        kpts *= d/(2*np.pi)\n",
    "    return kpts\n",
    "\n",
    "def make_and_run_mf(dist,nkpts,num_h,fnal=\"HF\"):\n",
    "    cell = make_cell(dist,num_h)\n",
    "    if fnal == \"HF\":\n",
    "        mf = pbchf.KRHF(cell).density_fit()\n",
    "    else:\n",
    "        mf = pbchf.KRKS(cell,xc=fnal).density_fit()\n",
    "    \n",
    "    nkpts = nkpts\n",
    "    kpts2 = cell.make_kpts([nkpts,1,1])\n",
    "    kpts = make_kpts(nkpts,cell)\n",
    "    assert(np.allclose(kpts,kpts2))\n",
    "    mf.kpts = kpts\n",
    "    mf.kernel()\n",
    "    \n",
    "    energies, mos = mf.get_bands(kpts)\n",
    "    energies = np.vstack(energies)\n",
    "    kptsnorm = make_kpts(nkpts,cell,True)[:,0]\n",
    "    kptsnorm = np.hstack([kptsnorm,np.array(1)]) #append gamma at end\n",
    "    df = pd.DataFrame()\n",
    "    for i in range(energies.shape[1]):\n",
    "        e_band = energies[:,i]\n",
    "        e_band = np.hstack([e_band,np.array(e_band[0])])\n",
    "        for k,e in zip(kptsnorm,e_band):\n",
    "            df.loc[k,i] = e\n",
    "        df.loc[\"nocc\",i] = mf.mo_occ[0][i]\n",
    "    return df\n",
    "\n",
    "class PeriodicData: #Periodic\n",
    "    def __init__(self,df):\n",
    "        # self.df = pd.read_csv(csv_fn,index_col=0)\n",
    "        self.df = df\n",
    "        self.mo_occ = self.df.loc[\"nocc\"]\n",
    "        self.df = self.df.drop(\"nocc\")\n",
    "        self.hartree_to_ev = 27.2114\n",
    "\n",
    "    def get_homo(self):\n",
    "        df = self.df.copy()\n",
    "        homo_idx = np.where(self.mo_occ == 2)[0][-1]\n",
    "        k = np.array(self.df.index).astype(float)\n",
    "        energies = self.df.iloc[:,homo_idx].values\n",
    "        energies *= self.hartree_to_ev\n",
    "        return energies,k\n",
    "\n",
    "    def get_lumo(self):\n",
    "        df = self.df.copy()\n",
    "        lumo_idx = np.where(self.mo_occ == 0)[0][0]\n",
    "        k = np.array(self.df.index).astype(float)\n",
    "        energies = self.df.iloc[:,lumo_idx].values\n",
    "        energies *= self.hartree_to_ev\n",
    "        return energies,k\n",
    "\n",
    "DIST = 1.4\n",
    "NUM_H = 4\n",
    "NKPTS = 16\n",
    "FNAL = \"HSE06\"\n",
    "RESULTS = make_and_run_mf(DIST, NKPTS, NUM_H, FNAL)\n",
    "RESULTS.to_csv(f\"logs/periodic_{FNAL}_frag{NUM_H}H_14_k16.csv\")"
   ]
  },
  {
   "cell_type": "code",
   "execution_count": 4,
   "id": "58bd95bc-beaf-4d52-bfba-3419385928bc",
   "metadata": {
    "execution": {
     "iopub.execute_input": "2024-08-01T21:26:36.792093Z",
     "iopub.status.busy": "2024-08-01T21:26:36.791559Z",
     "iopub.status.idle": "2024-08-01T21:26:37.547779Z",
     "shell.execute_reply": "2024-08-01T21:26:37.546921Z",
     "shell.execute_reply.started": "2024-08-01T21:26:36.792062Z"
    }
   },
   "outputs": [
    {
     "data": {
      "text/html": [
       "<div>\n",
       "<style scoped>\n",
       "    .dataframe tbody tr th:only-of-type {\n",
       "        vertical-align: middle;\n",
       "    }\n",
       "\n",
       "    .dataframe tbody tr th {\n",
       "        vertical-align: top;\n",
       "    }\n",
       "\n",
       "    .dataframe thead th {\n",
       "        text-align: right;\n",
       "    }\n",
       "</style>\n",
       "<table border=\"1\" class=\"dataframe\">\n",
       "  <thead>\n",
       "    <tr style=\"text-align: right;\">\n",
       "      <th></th>\n",
       "      <th>IP</th>\n",
       "      <th>EA</th>\n",
       "      <th>GAP</th>\n",
       "    </tr>\n",
       "  </thead>\n",
       "  <tbody>\n",
       "    <tr>\n",
       "      <th>HSE06</th>\n",
       "      <td>3.51</td>\n",
       "      <td>3.38</td>\n",
       "      <td>0.13</td>\n",
       "    </tr>\n",
       "  </tbody>\n",
       "</table>\n",
       "</div>"
      ],
      "text/plain": [
       "         IP    EA   GAP\n",
       "HSE06  3.51  3.38  0.13"
      ]
     },
     "execution_count": 4,
     "metadata": {},
     "output_type": "execute_result"
    },
    {
     "data": {
      "image/png": "[encoded data removed]",
      "text/plain": [
       "<Figure size 640x480 with 1 Axes>"
      ]
     },
     "metadata": {},
     "output_type": "display_data"
    }
   ],
   "source": [
    "import seaborn as sns\n",
    "sns.set()\n",
    "per = PeriodicData(RESULTS)\n",
    "df = pd.DataFrame()\n",
    "e,k = per.get_homo()\n",
    "df.loc[FNAL,\"IP\"] = -e.max()\n",
    "plt.scatter(k,e,label=f\"{FNAL} VB\")\n",
    "e,k = per.get_lumo()\n",
    "df.loc[FNAL,\"EA\"] = -e.min()\n",
    "df[\"GAP\"] = (-df[\"EA\"]) - (-df[\"IP\"])\n",
    "plt.scatter(k,e,label=f\"{FNAL} CB\")\n",
    "plt.legend()\n",
    "plt.ylabel(\"Energy (eV)\")\n",
    "plt.xlabel(\"kd/2$\\pi$\")\n",
    "plt.title(\"32-H Circle (d=2.5 $\\AA$, STO-3G)\")\n",
    "plt.tight_layout()\n",
    "plt.savefig(f\"../figures/hcircle_periodic_bands_{FNAL}.png\")\n",
    "np.round(df,2)"
   ]
  },
  {
   "cell_type": "code",
   "execution_count": null,
   "id": "3dce846c-03ed-4c10-8fb6-0b00166bec0d",
   "metadata": {},
   "outputs": [],
   "source": []
  }
 ],
 "metadata": {
  "kernelspec": {
   "display_name": "Python 3 (ipykernel)",
   "language": "python",
   "name": "python3"
  },
  "language_info": {
   "codemirror_mode": {
    "name": "ipython",
    "version": 3
   },
   "file_extension": ".py",
   "mimetype": "text/x-python",
   "name": "python",
   "nbconvert_exporter": "python",
   "pygments_lexer": "ipython3",
   "version": "3.10.12"
  }
 },
 "nbformat": 4,
 "nbformat_minor": 5
}
