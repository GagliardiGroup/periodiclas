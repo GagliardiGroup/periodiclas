{
 "cells": [
  {
   "cell_type": "code",
   "execution_count": 2,
   "id": "4267fc33-6f13-4cd6-801d-92b72941b7c5",
   "metadata": {
    "execution": {
     "iopub.execute_input": "2024-07-30T03:48:57.723276Z",
     "iopub.status.busy": "2024-07-30T03:48:57.722745Z",
     "iopub.status.idle": "2024-07-30T03:49:04.384391Z",
     "shell.execute_reply": "2024-07-30T03:49:04.383796Z",
     "shell.execute_reply.started": "2024-07-30T03:48:57.723249Z"
    }
   },
   "outputs": [
    {
     "name": "stdout",
     "output_type": "stream",
     "text": [
      "overwrite output file: logs/output.log\n",
      "overwrite output file: logs/output.log\n",
      "overwrite output file: logs/output.log\n",
      "overwrite output file: logs/output.log\n",
      "overwrite output file: logs/output.log\n",
      "overwrite output file: logs/output.log\n"
     ]
    },
    {
     "data": {
      "text/html": [
       "<div>\n",
       "<style scoped>\n",
       "    .dataframe tbody tr th:only-of-type {\n",
       "        vertical-align: middle;\n",
       "    }\n",
       "\n",
       "    .dataframe tbody tr th {\n",
       "        vertical-align: top;\n",
       "    }\n",
       "\n",
       "    .dataframe thead th {\n",
       "        text-align: right;\n",
       "    }\n",
       "</style>\n",
       "<table border=\"1\" class=\"dataframe\">\n",
       "  <thead>\n",
       "    <tr style=\"text-align: right;\">\n",
       "      <th></th>\n",
       "      <th>dw</th>\n",
       "      <th>e_mcscf</th>\n",
       "      <th>e_mcpdft</th>\n",
       "    </tr>\n",
       "  </thead>\n",
       "  <tbody>\n",
       "    <tr>\n",
       "      <th>0</th>\n",
       "      <td>2.270000e-16</td>\n",
       "      <td>-151.335736</td>\n",
       "      <td>-152.143285</td>\n",
       "    </tr>\n",
       "    <tr>\n",
       "      <th>1</th>\n",
       "      <td>1.170000e-16</td>\n",
       "      <td>-150.995050</td>\n",
       "      <td>-151.831335</td>\n",
       "    </tr>\n",
       "    <tr>\n",
       "      <th>-1</th>\n",
       "      <td>2.530000e-16</td>\n",
       "      <td>-150.980265</td>\n",
       "      <td>-151.912467</td>\n",
       "    </tr>\n",
       "  </tbody>\n",
       "</table>\n",
       "</div>"
      ],
      "text/plain": [
       "              dw     e_mcscf    e_mcpdft\n",
       " 0  2.270000e-16 -151.335736 -152.143285\n",
       " 1  1.170000e-16 -150.995050 -151.831335\n",
       "-1  2.530000e-16 -150.980265 -151.912467"
      ]
     },
     "execution_count": 2,
     "metadata": {},
     "output_type": "execute_result"
    }
   ],
   "source": [
    "import numpy as np\n",
    "import pandas as pd\n",
    "from pyscf import gto, scf, lib, mcscf\n",
    "import math\n",
    "import time\n",
    "import os\n",
    "from tools import sign_control, util\n",
    "from systems.hdmrg import HDMRG\n",
    "from systems.pacircle import PACircle\n",
    "\n",
    "class PADMRG(HDMRG):\n",
    "    def __init__(self,ncells=8,dist=2.5,n_per_frag=1,mval=500,pdft=True,fn=None):\n",
    "        self.data_name = f\"pa{ncells}_d{int(dist*10)}_m{mval}\"\n",
    "        if not fn:\n",
    "            self.geom = PACircle(dist,ncells,n_per_frag,fn=f\"{self.data_name}.log\")\n",
    "        else:\n",
    "            self.geom = PACircle(dist,ncells,n_per_frag,fn=fn)\n",
    "        self.get_mol = self.geom.get_mol\n",
    "        self.make_las_init_guess = self.geom.make_las_init_guess\n",
    "        self.mval = mval\n",
    "        self.pdft = pdft\n",
    "        self.rundir = f\"./logs/{self.data_name}/\"\n",
    "\n",
    "#Code used to run DMRG below\n",
    "#NCELLS and MVAL modified for test calculation, actual calculations takes a few hours\n",
    "\n",
    "#Number of HCCH monomers\n",
    "# NCELLS = 16\n",
    "NCELLS = 2\n",
    "DIST = 2.47\n",
    "# MVAL = 500\n",
    "MVAL = 10\n",
    "\n",
    "obj = PADMRG(ncells=NCELLS,dist=DIST,mval=MVAL)\n",
    "results_fn = f\"{obj.data_name}.csv\"\n",
    "df = pd.DataFrame()\n",
    "for charge in [0,1,-1]:\n",
    "    results = obj.run_dmrg(charge)\n",
    "    for k,v in results.items():\n",
    "        df.loc[charge,k] = v\n",
    "    df.to_csv(results_fn)"
   ]
  }
 ],
 "metadata": {
  "kernelspec": {
   "display_name": "Python 3 (ipykernel)",
   "language": "python",
   "name": "python3"
  },
  "language_info": {
   "codemirror_mode": {
    "name": "ipython",
    "version": 3
   },
   "file_extension": ".py",
   "mimetype": "text/x-python",
   "name": "python",
   "nbconvert_exporter": "python",
   "pygments_lexer": "ipython3",
   "version": "3.10.12"
  }
 },
 "nbformat": 4,
 "nbformat_minor": 5
}
