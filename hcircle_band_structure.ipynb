{
 "cells": [
  {
   "cell_type": "markdown",
   "id": "f5340ec9-9ebc-4fcf-b114-f05b5cd37426",
   "metadata": {},
   "source": [
    "## Running LAS"
   ]
  },
  {
   "cell_type": "code",
   "execution_count": 1,
   "id": "49d1e6ee-0623-40ce-a595-b6eeb734f0e9",
   "metadata": {
    "execution": {
     "iopub.execute_input": "2024-07-19T01:42:36.025691Z",
     "iopub.status.busy": "2024-07-19T01:42:36.025004Z",
     "iopub.status.idle": "2024-07-19T01:43:01.774107Z",
     "shell.execute_reply": "2024-07-19T01:43:01.773322Z",
     "shell.execute_reply.started": "2024-07-19T01:42:36.025659Z"
    }
   },
   "outputs": [
    {
     "name": "stderr",
     "output_type": "stream",
     "text": [
      "/home/king1305/Apps/pyscf/pyscf/dft/libxc.py:772: UserWarning: Since PySCF-2.3, B3LYP (and B3P86) are changed to the VWN-RPA variant, corresponding to the original definition by Stephens et al. (issue 1480) and the same as the B3LYP functional in Gaussian. To restore the VWN5 definition, you can put the setting \"B3LYP_WITH_VWN5 = True\" in pyscf_conf.py\n",
      "  warnings.warn('Since PySCF-2.3, B3LYP (and B3P86) are changed to the VWN-RPA variant, '\n",
      "WARN: HOMO -0.0888205105374333 >= LUMO -0.0888205105374331\n"
     ]
    },
    {
     "name": "stdout",
     "output_type": "stream",
     "text": [
      "overwrite output file: logs/hcircle.log\n",
      "Initiating LAS Model Space...\n",
      "Done. Time elapsed: 23.894886854992365 seconds\n",
      "Running LASSI...\n",
      "Done. Time elapsed: 0.7856338129931828 seconds\n"
     ]
    }
   ],
   "source": [
    "import numpy as np\n",
    "from pyscf import gto, scf, lib, mcscf\n",
    "import math\n",
    "import time\n",
    "import os\n",
    "from tools import sign_control, util\n",
    "from systems.hcircle import HCircle\n",
    "\n",
    "NUM_H = 16 #total number of hydrogens\n",
    "NUM_H_PER_FRAG = 2 #number of hydrogens/fragment\n",
    "DIST = 1.4 #bond distance\n",
    "\n",
    "geom = HCircle(DIST,NUM_H,NUM_H_PER_FRAG,fn=\"logs/hcircle.log\")\n",
    "las = geom.make_las_state_average()\n",
    "\n",
    "#Build LAS states\n",
    "print(\"Initiating LAS Model Space...\")\n",
    "start = time.perf_counter()\n",
    "las.lasci_()\n",
    "las.ci = sign_control.fix_sign(las) #sign fixing\n",
    "stop = time.perf_counter()\n",
    "print(\"Done. Time elapsed:\",stop-start,\"seconds\")\n",
    "las.dump_spaces()\n",
    "\n",
    "#Run LASSI\n",
    "print(\"Running LASSI...\")\n",
    "start = time.perf_counter()\n",
    "from mrh.my_pyscf import lassi\n",
    "lsi = lassi.LASSI(las)\n",
    "energies_lassi, civecs_lassi = lsi.kernel()\n",
    "civecs_lassi = lsi.get_sivec_vacuum_shuffle(state=0) #sign fixing\n",
    "stop = time.perf_counter()\n",
    "print(\"Done. Time elapsed:\",stop-start,\"seconds\") #Logged to hcircle.log"
   ]
  },
  {
   "cell_type": "markdown",
   "id": "54b8837e-8f7a-46ba-b2a3-d0b665db134f",
   "metadata": {},
   "source": [
    "## Plotting Band Structure"
   ]
  },
  {
   "cell_type": "code",
   "execution_count": 2,
   "id": "3af5b1d2-8f37-4270-86aa-7c15d7d2b883",
   "metadata": {
    "execution": {
     "iopub.execute_input": "2024-07-19T01:57:29.101934Z",
     "iopub.status.busy": "2024-07-19T01:57:29.101327Z",
     "iopub.status.idle": "2024-07-19T01:57:29.463584Z",
     "shell.execute_reply": "2024-07-19T01:57:29.462857Z",
     "shell.execute_reply.started": "2024-07-19T01:57:29.101908Z"
    }
   },
   "outputs": [
    {
     "name": "stdout",
     "output_type": "stream",
     "text": [
      "[-7.69 -7.26 -7.26 -7.26 -7.26 -7.26 -7.26 -7.26 -7.26 -7.32 -7.32 -7.32\n",
      " -7.32 -7.32 -7.32 -7.32 -7.32]\n"
     ]
    },
    {
     "data": {
      "text/plain": [
       "Text(0, 0.5, 'Energy (eV)')"
      ]
     },
     "execution_count": 2,
     "metadata": {},
     "output_type": "execute_result"
    },
    {
     "data": {
      "image/png": "[encoded data removed]",
      "text/plain": [
       "<Figure size 640x480 with 1 Axes>"
      ]
     },
     "metadata": {},
     "output_type": "display_data"
    }
   ],
   "source": [
    "from tools import bandh\n",
    "import seaborn as sns\n",
    "import matplotlib.pyplot as plt\n",
    "sns.set()\n",
    "\n",
    "las_charges = util.las_charges(las)\n",
    "hdct = bandh.make_hdct(civecs_lassi,energies_lassi,las_charges)\n",
    "df = bandh.make_bands(hdct)\n",
    "plt.legend()\n",
    "plt.xlabel(\"k$d$/2$\\pi$\")\n",
    "plt.ylabel(\"Energy (eV)\") #Note here we plot w/ only 16 H, so less number of k points"
   ]
  }
 ],
 "metadata": {
  "kernelspec": {
   "display_name": "Python 3 (ipykernel)",
   "language": "python",
   "name": "python3"
  },
  "language_info": {
   "codemirror_mode": {
    "name": "ipython",
    "version": 3
   },
   "file_extension": ".py",
   "mimetype": "text/x-python",
   "name": "python",
   "nbconvert_exporter": "python",
   "pygments_lexer": "ipython3",
   "version": "3.10.12"
  }
 },
 "nbformat": 4,
 "nbformat_minor": 5
}
