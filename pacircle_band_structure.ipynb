{
 "cells": [
  {
   "cell_type": "markdown",
   "id": "b88af819-d626-4e2d-ba25-04b1e05b8ed1",
   "metadata": {},
   "source": [
    "## Running LAS"
   ]
  },
  {
   "cell_type": "code",
   "execution_count": 1,
   "id": "4267fc33-6f13-4cd6-801d-92b72941b7c5",
   "metadata": {
    "execution": {
     "iopub.execute_input": "2024-07-18T04:58:27.254566Z",
     "iopub.status.busy": "2024-07-18T04:58:27.254264Z",
     "iopub.status.idle": "2024-07-18T04:58:48.285207Z",
     "shell.execute_reply": "2024-07-18T04:58:48.284392Z",
     "shell.execute_reply.started": "2024-07-18T04:58:27.254534Z"
    }
   },
   "outputs": [
    {
     "name": "stderr",
     "output_type": "stream",
     "text": [
      "/home/king1305/Apps/pyscf/pyscf/dft/libxc.py:772: UserWarning: Since PySCF-2.3, B3LYP (and B3P86) are changed to the VWN-RPA variant, corresponding to the original definition by Stephens et al. (issue 1480) and the same as the B3LYP functional in Gaussian. To restore the VWN5 definition, you can put the setting \"B3LYP_WITH_VWN5 = True\" in pyscf_conf.py\n",
      "  warnings.warn('Since PySCF-2.3, B3LYP (and B3P86) are changed to the VWN-RPA variant, '\n"
     ]
    },
    {
     "name": "stdout",
     "output_type": "stream",
     "text": [
      "overwrite output file: logs/pacircle.log\n",
      "orbital 0: [ 1.  1.  1. -1. -1. -1. -1.  1.]\n",
      "orbital 1: [ 1. -1.  1. -1.  1.  1.  1. -1.]\n",
      "Initiating LAS Model Space...\n",
      "Done. Time elapsed: 18.011134077998577 seconds\n",
      "Running LASSI...\n",
      "Done. Time elapsed: 1.015421675001562 seconds\n"
     ]
    }
   ],
   "source": [
    "import numpy as np\n",
    "from pyscf import gto, scf, lib, mcscf\n",
    "import math\n",
    "import time\n",
    "import os\n",
    "from tools import sign_control, util\n",
    "from systems.pacircle import PACircle\n",
    "\n",
    "NFRAGS = 8\n",
    "#Number of HCCH monomers per fragment (1 --> 2C/fragment)\n",
    "N_PER_FRAG = 1 \n",
    "DIST = 2.5\n",
    "\n",
    "geom = PACircle(DIST,NFRAGS,N_PER_FRAG,fn=\"logs/pacircle.log\")\n",
    "las = geom.make_las_state_average()\n",
    "\n",
    "#Build LAS states\n",
    "print(\"Initiating LAS Model Space...\")\n",
    "start = time.perf_counter()\n",
    "las.lasci_()\n",
    "las.ci = sign_control.fix_sign(las) #sign fixing\n",
    "stop = time.perf_counter()\n",
    "print(\"Done. Time elapsed:\",stop-start,\"seconds\")\n",
    "las.dump_spaces()\n",
    "\n",
    "#Run LASSI\n",
    "print(\"Running LASSI...\")\n",
    "start = time.perf_counter()\n",
    "from mrh.my_pyscf import lassi\n",
    "lsi = lassi.LASSI(las)\n",
    "energies_lassi, civecs_lassi = lsi.kernel()\n",
    "civecs_lassi = lsi.get_sivec_vacuum_shuffle(state=0) #sign fixing\n",
    "stop = time.perf_counter()\n",
    "print(\"Done. Time elapsed:\",stop-start,\"seconds\")"
   ]
  },
  {
   "cell_type": "markdown",
   "id": "1f9ec0a4-7c06-4867-b7be-f25fbc196db6",
   "metadata": {},
   "source": [
    "## Plotting Band Structure"
   ]
  },
  {
   "cell_type": "code",
   "execution_count": 2,
   "id": "a45d84bf-c8ec-4593-8986-11a5c7688512",
   "metadata": {
    "execution": {
     "iopub.execute_input": "2024-07-18T04:58:48.289660Z",
     "iopub.status.busy": "2024-07-18T04:58:48.289191Z",
     "iopub.status.idle": "2024-07-18T04:58:48.639712Z",
     "shell.execute_reply": "2024-07-18T04:58:48.638920Z",
     "shell.execute_reply.started": "2024-07-18T04:58:48.289631Z"
    }
   },
   "outputs": [
    {
     "name": "stdout",
     "output_type": "stream",
     "text": [
      "[-607.22 -606.86 -606.86 -606.86 -606.86 -606.86 -606.86 -606.86 -606.86\n",
      " -606.85 -606.85 -606.85 -606.85 -606.85 -606.85 -606.85 -606.85]\n"
     ]
    },
    {
     "data": {
      "text/plain": [
       "Text(0, 0.5, 'Energy (eV)')"
      ]
     },
     "execution_count": 2,
     "metadata": {},
     "output_type": "execute_result"
    },
    {
     "data": {
      "image/png": "[encoded data removed]",
      "text/plain": [
       "<Figure size 640x480 with 1 Axes>"
      ]
     },
     "metadata": {},
     "output_type": "display_data"
    }
   ],
   "source": [
    "from tools import bandh\n",
    "import seaborn as sns\n",
    "import matplotlib.pyplot as plt\n",
    "sns.set()\n",
    "\n",
    "las_charges = util.las_charges(las)\n",
    "hdct = bandh.make_hdct(civecs_lassi,energies_lassi,las_charges)\n",
    "bandh.make_bands(hdct)\n",
    "plt.legend()\n",
    "plt.xlabel(\"k$d$/2$\\pi$\")\n",
    "plt.ylabel(\"Energy (eV)\") #Note here we plot w/ only 16 H, so less number of k points"
   ]
  },
  {
   "cell_type": "code",
   "execution_count": null,
   "id": "c69fe2af-802f-4b7e-9ee2-dde037547ca1",
   "metadata": {},
   "outputs": [],
   "source": []
  }
 ],
 "metadata": {
  "kernelspec": {
   "display_name": "Python 3 (ipykernel)",
   "language": "python",
   "name": "python3"
  },
  "language_info": {
   "codemirror_mode": {
    "name": "ipython",
    "version": 3
   },
   "file_extension": ".py",
   "mimetype": "text/x-python",
   "name": "python",
   "nbconvert_exporter": "python",
   "pygments_lexer": "ipython3",
   "version": "3.10.12"
  }
 },
 "nbformat": 4,
 "nbformat_minor": 5
}
