{
 "cells": [
  {
   "cell_type": "code",
   "execution_count": 7,
   "id": "67e531ad-860c-4bd9-acee-9d7426299ff2",
   "metadata": {
    "execution": {
     "iopub.execute_input": "2024-08-27T22:10:58.453906Z",
     "iopub.status.busy": "2024-08-27T22:10:58.453428Z",
     "iopub.status.idle": "2024-08-27T22:11:27.395140Z",
     "shell.execute_reply": "2024-08-27T22:11:27.394528Z",
     "shell.execute_reply.started": "2024-08-27T22:10:58.453873Z"
    }
   },
   "outputs": [
    {
     "name": "stdout",
     "output_type": "stream",
     "text": [
      "overwrite output file: logs/nio.log\n",
      "Initiating LAS Model Space...\n",
      "Done. Time elapsed: 22.211530586704612 seconds\n",
      "Running LASSI...\n",
      "Done. Time elapsed: 0.9164449400268495 seconds\n",
      "Gap: 3.81 eV\n"
     ]
    }
   ],
   "source": [
    "#Build Molecule\n",
    "import numpy as np\n",
    "from pyscf import gto, scf, lib, mcscf\n",
    "import math\n",
    "import time\n",
    "import os\n",
    "from tools import sign_control, util\n",
    "from systems.niochain import NiOChain\n",
    "\n",
    "def calc_gap(dist=2,nio_dist=1.6,fn=\"logs/nio.log\"):\n",
    "    #dist -- distance between NiO fragments\n",
    "    #nio_dist -- Ni O distance\n",
    "    geom = NiOChain(4,dist=dist,nio_dist=nio_dist,fn=fn)\n",
    "    las = geom.make_las_state_average()\n",
    "    \n",
    "    #Build LAS states\n",
    "    print(\"Initiating LAS Model Space...\")\n",
    "    start = time.perf_counter()\n",
    "    las.lasci_()\n",
    "    las.ci = sign_control.fix_sign(las)\n",
    "    stop = time.perf_counter()\n",
    "    print(\"Done. Time elapsed:\",stop-start,\"seconds\")\n",
    "    las.dump_spaces()\n",
    "        \n",
    "    #Run LASSI\n",
    "    print(\"Running LASSI...\")\n",
    "    start = time.perf_counter()\n",
    "    from mrh.my_pyscf import lassi\n",
    "    lsi = lassi.LASSI(las)\n",
    "    energies_lassi, civecs_lassi = lsi.kernel()\n",
    "    civecs_lassi = lsi.get_sivec_vacuum_shuffle(state=0) #Sign fixing\n",
    "    stop = time.perf_counter()\n",
    "    print(\"Done. Time elapsed:\",stop-start,\"seconds\")\n",
    "    \n",
    "    hartree_to_ev = 27.2114\n",
    "    de = energies_lassi[1] - energies_lassi[0]\n",
    "    gap = de * hartree_to_ev\n",
    "    print(\"Gap:\",np.round(gap,2),\"eV\")\n",
    "\n",
    "    las_charges = util.las_charges(las)\n",
    "    data = {\"energies_lassi\":energies_lassi,\n",
    "            \"civecs\":civecs_lassi,\n",
    "            \"charges\":las_charges,\n",
    "            \"nfrags\":geom.nfrags,\n",
    "            \"dist\":geom.dist,\n",
    "            \"mf_coeff\":geom.mf_coeff,\n",
    "            \"mf_occ\":geom.mf_occ,\n",
    "            \"mf_ene\":geom.mf_ene,\n",
    "           }\n",
    "    \n",
    "    return data, gap\n",
    "\n",
    "data, gap = calc_gap(dist=2.5,nio_dist=2.1)"
   ]
  }
 ],
 "metadata": {
  "kernelspec": {
   "display_name": "Python 3 (ipykernel)",
   "language": "python",
   "name": "python3"
  },
  "language_info": {
   "codemirror_mode": {
    "name": "ipython",
    "version": 3
   },
   "file_extension": ".py",
   "mimetype": "text/x-python",
   "name": "python",
   "nbconvert_exporter": "python",
   "pygments_lexer": "ipython3",
   "version": "3.10.12"
  }
 },
 "nbformat": 4,
 "nbformat_minor": 5
}
