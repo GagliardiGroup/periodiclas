{
 "cells": [
  {
   "cell_type": "code",
   "execution_count": 1,
   "id": "67e531ad-860c-4bd9-acee-9d7426299ff2",
   "metadata": {
    "execution": {
     "iopub.execute_input": "2024-07-26T00:29:13.130990Z",
     "iopub.status.busy": "2024-07-26T00:29:13.130516Z",
     "iopub.status.idle": "2024-07-26T00:29:41.670116Z",
     "shell.execute_reply": "2024-07-26T00:29:41.669486Z",
     "shell.execute_reply.started": "2024-07-26T00:29:13.130958Z"
    }
   },
   "outputs": [
    {
     "name": "stderr",
     "output_type": "stream",
     "text": [
      "/home/king1305/Apps/pyscf/pyscf/dft/libxc.py:772: UserWarning: Since PySCF-2.3, B3LYP (and B3P86) are changed to the VWN-RPA variant, corresponding to the original definition by Stephens et al. (issue 1480) and the same as the B3LYP functional in Gaussian. To restore the VWN5 definition, you can put the setting \"B3LYP_WITH_VWN5 = True\" in pyscf_conf.py\n",
      "  warnings.warn('Since PySCF-2.3, B3LYP (and B3P86) are changed to the VWN-RPA variant, '\n"
     ]
    },
    {
     "name": "stdout",
     "output_type": "stream",
     "text": [
      "overwrite output file: logs/nio.log\n",
      "Initiating LAS Model Space...\n",
      "Done. Time elapsed: 21.68956315901596 seconds\n",
      "Running LASSI...\n",
      "Done. Time elapsed: 0.41217574395705014 seconds\n",
      "Gap: 3.81 eV\n"
     ]
    },
    {
     "data": {
      "text/plain": [
       "3.8108463395284278"
      ]
     },
     "execution_count": 1,
     "metadata": {},
     "output_type": "execute_result"
    }
   ],
   "source": [
    "#Build Molecule\n",
    "import numpy as np\n",
    "from pyscf import gto, scf, lib, mcscf\n",
    "import math\n",
    "import time\n",
    "import os\n",
    "from tools import sign_control, util\n",
    "from systems.niochain import NiOChain\n",
    "\n",
    "def calc_gap(dist=2,nio_dist=1.6,fn=\"logs/nio.log\"):\n",
    "    #dist -- distance between NiO fragments\n",
    "    #nio_dist -- Ni O distance\n",
    "    geom = NiOChain(4,dist=dist,nio_dist=nio_dist,fn=fn)\n",
    "    las = geom.make_las_state_average()\n",
    "    \n",
    "    #Build LAS states\n",
    "    print(\"Initiating LAS Model Space...\")\n",
    "    start = time.perf_counter()\n",
    "    las.lasci_()\n",
    "    las.ci = sign_control.fix_sign(las)\n",
    "    stop = time.perf_counter()\n",
    "    print(\"Done. Time elapsed:\",stop-start,\"seconds\")\n",
    "    las.dump_spaces()\n",
    "        \n",
    "    #Run LASSI\n",
    "    print(\"Running LASSI...\")\n",
    "    start = time.perf_counter()\n",
    "    from mrh.my_pyscf import lassi\n",
    "    lsi = lassi.LASSI(las)\n",
    "    energies_lassi, civecs_lassi = lsi.kernel()\n",
    "    civecs_lassi = lsi.get_sivec_vacuum_shuffle(state=0) #Sign fixing\n",
    "    stop = time.perf_counter()\n",
    "    print(\"Done. Time elapsed:\",stop-start,\"seconds\")\n",
    "    \n",
    "    hartree_to_ev = 27.2114\n",
    "    de = energies_lassi[1] - energies_lassi[0]\n",
    "    gap = de * hartree_to_ev\n",
    "    print(\"Gap:\",np.round(gap,2),\"eV\")\n",
    "    return gap\n",
    "\n",
    "calc_gap(dist=2.5,nio_dist=2.1)"
   ]
  },
  {
   "cell_type": "code",
   "execution_count": null,
   "id": "578622cb-e8e7-4bfd-a9b6-ff29ca87eb50",
   "metadata": {},
   "outputs": [],
   "source": []
  }
 ],
 "metadata": {
  "kernelspec": {
   "display_name": "Python 3 (ipykernel)",
   "language": "python",
   "name": "python3"
  },
  "language_info": {
   "codemirror_mode": {
    "name": "ipython",
    "version": 3
   },
   "file_extension": ".py",
   "mimetype": "text/x-python",
   "name": "python",
   "nbconvert_exporter": "python",
   "pygments_lexer": "ipython3",
   "version": "3.10.12"
  }
 },
 "nbformat": 4,
 "nbformat_minor": 5
}
