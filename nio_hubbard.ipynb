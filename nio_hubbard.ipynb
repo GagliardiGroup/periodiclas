{
 "cells": [
  {
   "cell_type": "code",
   "execution_count": 2,
   "id": "67e531ad-860c-4bd9-acee-9d7426299ff2",
   "metadata": {
    "execution": {
     "iopub.execute_input": "2024-07-18T16:33:25.193112Z",
     "iopub.status.busy": "2024-07-18T16:33:25.192487Z",
     "iopub.status.idle": "2024-07-18T16:33:54.329748Z",
     "shell.execute_reply": "2024-07-18T16:33:54.329122Z",
     "shell.execute_reply.started": "2024-07-18T16:33:25.193089Z"
    }
   },
   "outputs": [
    {
     "name": "stdout",
     "output_type": "stream",
     "text": [
      "overwrite output file: logs/nio.log\n",
      "Initiating LAS Model Space...\n",
      "Done. Time elapsed: 22.879385362990433 seconds\n",
      "Running LASSI...\n",
      "Done. Time elapsed: 0.4658770980022382 seconds\n",
      "Gap: 3.81 eV\n"
     ]
    },
    {
     "data": {
      "text/plain": [
       "3.8108466893502295"
      ]
     },
     "execution_count": 2,
     "metadata": {},
     "output_type": "execute_result"
    }
   ],
   "source": [
    "#Build Molecule\n",
    "import numpy as np\n",
    "from pyscf import gto, scf, lib, mcscf\n",
    "import math\n",
    "import time\n",
    "import os\n",
    "from tools import sign_control, util\n",
    "from systems.niochain import NiOChain\n",
    "\n",
    "def calc_gap(dist=2,nio_dist=1.6,fn=\"logs/nio.log\"):\n",
    "    #dist -- distance between NiO fragments\n",
    "    #nio_dist -- Ni O distance\n",
    "    geom = NiOChain(4,dist=dist,nio_dist=nio_dist,fn=fn)\n",
    "    las = geom.make_las_state_average()\n",
    "    \n",
    "    #Build LAS states\n",
    "    print(\"Initiating LAS Model Space...\")\n",
    "    start = time.perf_counter()\n",
    "    las.lasci_()\n",
    "    las.ci = sign_control.fix_sign(las)\n",
    "    stop = time.perf_counter()\n",
    "    print(\"Done. Time elapsed:\",stop-start,\"seconds\")\n",
    "    las.dump_spaces()\n",
    "        \n",
    "    #Run LASSI\n",
    "    print(\"Running LASSI...\")\n",
    "    start = time.perf_counter()\n",
    "    from mrh.my_pyscf import lassi\n",
    "    lsi = lassi.LASSI(las)\n",
    "    energies_lassi, civecs_lassi = lsi.kernel()\n",
    "    civecs_lassi = lsi.get_sivec_vacuum_shuffle(state=0) #Sign fixing\n",
    "    stop = time.perf_counter()\n",
    "    print(\"Done. Time elapsed:\",stop-start,\"seconds\")\n",
    "    \n",
    "    hartree_to_ev = 27.2114\n",
    "    de = energies_lassi[1] - energies_lassi[0]\n",
    "    gap = de * hartree_to_ev\n",
    "    print(\"Gap:\",np.round(gap,2),\"eV\")\n",
    "    return gap\n",
    "\n",
    "calc_gap(dist=2.5,nio_dist=2.1)"
   ]
  },
  {
   "cell_type": "code",
   "execution_count": null,
   "id": "780ce511-7a36-4add-b2bc-d9eb0f349c6c",
   "metadata": {},
   "outputs": [],
   "source": []
  }
 ],
 "metadata": {
  "kernelspec": {
   "display_name": "Python 3 (ipykernel)",
   "language": "python",
   "name": "python3"
  },
  "language_info": {
   "codemirror_mode": {
    "name": "ipython",
    "version": 3
   },
   "file_extension": ".py",
   "mimetype": "text/x-python",
   "name": "python",
   "nbconvert_exporter": "python",
   "pygments_lexer": "ipython3",
   "version": "3.10.12"
  }
 },
 "nbformat": 4,
 "nbformat_minor": 5
}
